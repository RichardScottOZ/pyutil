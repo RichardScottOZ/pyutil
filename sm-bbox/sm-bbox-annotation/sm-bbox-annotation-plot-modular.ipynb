{
 "cells": [
  {
   "cell_type": "markdown",
   "metadata": {},
   "source": [
    "# Plot images + bboxes\n",
    "\n",
    "This is similar to `sm-boox-annotation-plot.ipynb`, but with a modularized code."
   ]
  },
  {
   "cell_type": "code",
   "execution_count": 1,
   "metadata": {},
   "outputs": [],
   "source": [
    "import s3fs\n",
    "import json\n",
    "import matplotlib.pyplot as plt\n",
    "import numpy as np\n",
    "from typing import List, Dict, Any\n",
    "\n",
    "# Prefer opencv, as with PIL there's no way to load single-channel jpg as rgb in-memory data.\n",
    "#from PIL import Image, ImageDraw\n",
    "import cv2"
   ]
  },
  {
   "cell_type": "markdown",
   "metadata": {},
   "source": [
    "# Helper functions"
   ]
  },
  {
   "cell_type": "code",
   "execution_count": 2,
   "metadata": {},
   "outputs": [],
   "source": [
    "def plot_img_with_bbox(img: np.ndarray, d: Dict[Any, Any]):\n",
    "    '''Draw bboxes on image'''\n",
    "    for bbox in d['annotations']:\n",
    "        # bbox coordinates\n",
    "        x_min, y_min = bbox['left'], bbox['top']\n",
    "        x_max, y_max = x_min + bbox['width'], y_min + bbox['height']\n",
    "\n",
    "        # color to use (will round-robin r->g->b according to class_id)\n",
    "        cid = bbox['class_id']\n",
    "        color = [0,0,0]\n",
    "        color[cid % 3] = 255\n",
    "        cv2.rectangle(img, pt1=(x_min, y_min), pt2=(x_max, y_max), color=color, thickness=2)\n",
    "\n",
    "    plt.figure(figsize=(10, 10))\n",
    "    plt.imshow(img)\n",
    "    plt.show();"
   ]
  },
  {
   "cell_type": "code",
   "execution_count": 3,
   "metadata": {},
   "outputs": [],
   "source": [
    "def plot_local_img_with_bbox(json_path: str, img_root_dir: str):\n",
    "    # Deserialize annotation JSON file to dictionary\n",
    "    d = json.load(open(json_path, 'r'))\n",
    "\n",
    "    # Load image into 3-channel\n",
    "    img_fname = f'{img_root_dir}/{d[\"file\"]}'\n",
    "    img = cv2.imread(img_fname, 1)\n",
    "\n",
    "    plot_img_with_bbox(img, d)"
   ]
  },
  {
   "cell_type": "code",
   "execution_count": 4,
   "metadata": {},
   "outputs": [],
   "source": [
    "def plot_s3_img_with_bbox(json_path: str, img_root_dir: str, aws_profile:str='default'):\n",
    "    '''\n",
    "    :param aws_profile: Profile name of your AWS credential (see ~/.aws/).\n",
    "                        Set to 'default' to use default credential.\n",
    "    '''\n",
    "    # FIXME: this is not efficient as we repeatedly re-auth to S3.\n",
    "    fs = s3fs.S3FileSystem(anon=False, profile_name=aws_profile)\n",
    "\n",
    "    # Deserialize annotation JSON file to dictionary\n",
    "    d = json.loads(fs.cat(json_path))\n",
    "\n",
    "    # Load image from S3 into 3-channel.\n",
    "    # NOTE: if using bytearray(), then pair with np.asarray().\n",
    "    img_fname = f'{img_root_dir}/{d[\"file\"]}'\n",
    "    b = bytes(fs.cat(img_fname))\n",
    "    arr = np.frombuffer(b, dtype=np.uint8)\n",
    "    img = cv2.imdecode(arr, 1)\n",
    "\n",
    "    plot_img_with_bbox(img, d)"
   ]
  },
  {
   "cell_type": "markdown",
   "metadata": {},
   "source": [
    "# Visualize squarish train image and its pieces.\n",
    "\n",
    "## Plot an image in S3"
   ]
  },
  {
   "cell_type": "code",
   "execution_count": null,
   "metadata": {},
   "outputs": [],
   "source": [
    "plot_s3_img_with_bbox(\n",
    "    's3://bucket/data/train_annotation/image-0000001.json',\n",
    "    's3://bucket/data/train/train',\n",
    "    'default'\n",
    ")"
   ]
  },
  {
   "cell_type": "markdown",
   "metadata": {},
   "source": [
    "## Plot multiple images in local disk"
   ]
  },
  {
   "cell_type": "code",
   "execution_count": null,
   "metadata": {},
   "outputs": [],
   "source": [
    "pieces_train = [\n",
    "    '/home/ec2-user/SageMaker/train_pieces_h136_annotation/c6_img-01.json',\n",
    "    '/home/ec2-user/SageMaker/train_pieces_h136_annotation/c5_img-02.json',\n",
    "    '/home/ec2-user/SageMaker/train_pieces_h136_annotation/c7_img-03.json'\n",
    "]\n",
    "for json_path in pieces_train:\n",
    "    plot_local_img_with_bbox(json_path, '/home/ec2-user/SageMaker/train_pieces_h136')"
   ]
  },
  {
   "cell_type": "code",
   "execution_count": null,
   "metadata": {},
   "outputs": [],
   "source": []
  }
 ],
 "metadata": {
  "kernelspec": {
   "display_name": "Python 3",
   "language": "python",
   "name": "python3"
  },
  "language_info": {
   "codemirror_mode": {
    "name": "ipython",
    "version": 3
   },
   "file_extension": ".py",
   "mimetype": "text/x-python",
   "name": "python",
   "nbconvert_exporter": "python",
   "pygments_lexer": "ipython3",
   "version": "3.7.3"
  }
 },
 "nbformat": 4,
 "nbformat_minor": 4
}
