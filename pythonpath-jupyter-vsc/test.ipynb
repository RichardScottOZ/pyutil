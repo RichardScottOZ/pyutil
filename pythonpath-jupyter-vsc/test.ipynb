{
 "cells": [
  {
   "cell_type": "markdown",
   "metadata": {},
   "source": [
    "# Configure `PYTHONPATH` of each notebook kernel\n",
    "\n",
    "See: https://stackoverflow.com/a/58621757\n",
    "\n",
    "---\n",
    "Suppose your project has the following structure and you want to do imports in the `notebook.ipynb`:\n",
    "\n",
    "```python\n",
    "/app\n",
    "  /mypackage\n",
    "    mymodule.py\n",
    "  /notebooks\n",
    "    notebook.ipynb\n",
    "```\n",
    "\n",
    "If you are running Jupyter inside a docker container without any virtualenv it might be useful to create Jupyter (ipython) config in your project folder:\n",
    "\n",
    "```python\n",
    "/app\n",
    "  /profile_default\n",
    "    ipython_config.py\n",
    "```\n",
    "\n",
    "Content of `ipython_config.py`:\n",
    "\n",
    "```python\n",
    "c.InteractiveShellApp.exec_lines = [\n",
    "    'import sys; sys.path.append(\"/app\")'\n",
    "]\n",
    "```\n",
    "\n",
    "Open the notebook and check it out:\n",
    "\n",
    "```python\n",
    "print(sys.path)\n",
    "['', '/usr/local/lib/python36.zip', '/usr/local/lib/python3.6', '/usr/local/lib/python3.6/lib-dynload', '/usr/local/lib/python3.6/site-packages', '/usr/local/lib/python3.6/site-packages/IPython/extensions', '/root/.ipython', '/app']\n",
    "```\n",
    "\n",
    "Now you can do imports in your notebook without any `sys.path` appending in the cells:\n",
    "\n",
    "```python\n",
    "from mypackage.mymodule import myfunc\n",
    "```\n",
    "---"
   ]
  },
  {
   "cell_type": "code",
   "execution_count": 1,
   "metadata": {},
   "outputs": [
    {
     "name": "stdout",
     "output_type": "stream",
     "text": [
      "/home/verdi/miniconda3/envs/py/bin/python\n"
     ]
    }
   ],
   "source": [
    "!which python"
   ]
  },
  {
   "cell_type": "code",
   "execution_count": 2,
   "metadata": {},
   "outputs": [
    {
     "data": {
      "text/plain": [
       "['__class__',\n",
       " '__delattr__',\n",
       " '__dict__',\n",
       " '__dir__',\n",
       " '__doc__',\n",
       " '__eq__',\n",
       " '__format__',\n",
       " '__ge__',\n",
       " '__getattribute__',\n",
       " '__gt__',\n",
       " '__hash__',\n",
       " '__init__',\n",
       " '__init_subclass__',\n",
       " '__le__',\n",
       " '__lt__',\n",
       " '__module__',\n",
       " '__ne__',\n",
       " '__new__',\n",
       " '__reduce__',\n",
       " '__reduce_ex__',\n",
       " '__repr__',\n",
       " '__setattr__',\n",
       " '__sizeof__',\n",
       " '__str__',\n",
       " '__subclasshook__',\n",
       " '__weakref__',\n",
       " 'mymethod']"
      ]
     },
     "execution_count": 2,
     "metadata": {},
     "output_type": "execute_result"
    }
   ],
   "source": [
    "import mymodule\n",
    "dir(mymodule.myclass.MyClass)"
   ]
  },
  {
   "cell_type": "code",
   "execution_count": 3,
   "metadata": {},
   "outputs": [
    {
     "data": {
      "text/plain": [
       "['__builtins__',\n",
       " '__cached__',\n",
       " '__doc__',\n",
       " '__file__',\n",
       " '__loader__',\n",
       " '__name__',\n",
       " '__package__',\n",
       " '__path__',\n",
       " '__spec__',\n",
       " 'fun1',\n",
       " 'fun2']"
      ]
     },
     "execution_count": 3,
     "metadata": {},
     "output_type": "execute_result"
    }
   ],
   "source": [
    "import amodule\n",
    "dir(amodule)"
   ]
  },
  {
   "cell_type": "code",
   "execution_count": 4,
   "metadata": {},
   "outputs": [
    {
     "data": {
      "text/plain": [
       "<function amodule.fun2()>"
      ]
     },
     "execution_count": 4,
     "metadata": {},
     "output_type": "execute_result"
    }
   ],
   "source": [
    "amodule.fun1\n",
    "amodule.fun2"
   ]
  }
 ],
 "metadata": {
  "kernelspec": {
   "display_name": "Python [conda env:py]",
   "language": "python",
   "name": "conda-env-py-py"
  },
  "language_info": {
   "codemirror_mode": {
    "name": "ipython",
    "version": 3
   },
   "file_extension": ".py",
   "mimetype": "text/x-python",
   "name": "python",
   "nbconvert_exporter": "python",
   "pygments_lexer": "ipython3",
   "version": "3.8.0"
  }
 },
 "nbformat": 4,
 "nbformat_minor": 4
}
